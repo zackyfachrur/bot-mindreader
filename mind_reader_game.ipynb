{
  "nbformat": 4,
  "nbformat_minor": 0,
  "metadata": {
    "colab": {
      "provenance": []
    },
    "kernelspec": {
      "name": "python3",
      "display_name": "Python 3"
    },
    "language_info": {
      "name": "python"
    },
    "widgets": {
      "application/vnd.jupyter.widget-state+json": {
        "756e73ef9fa844e0a85494c57fc9d3cb": {
          "model_module": "@jupyter-widgets/controls",
          "model_name": "HBoxModel",
          "model_module_version": "1.5.0",
          "state": {
            "_dom_classes": [],
            "_model_module": "@jupyter-widgets/controls",
            "_model_module_version": "1.5.0",
            "_model_name": "HBoxModel",
            "_view_count": null,
            "_view_module": "@jupyter-widgets/controls",
            "_view_module_version": "1.5.0",
            "_view_name": "HBoxView",
            "box_style": "",
            "children": [
              "IPY_MODEL_d4fe2998c6db4a50a107707f13bdc283",
              "IPY_MODEL_4e433e6ff3714ee5b0ca039db6f4d3ae"
            ],
            "layout": "IPY_MODEL_cd991cce856341e29f8b163bd364ac05"
          }
        },
        "d4fe2998c6db4a50a107707f13bdc283": {
          "model_module": "@jupyter-widgets/controls",
          "model_name": "ButtonModel",
          "model_module_version": "1.5.0",
          "state": {
            "_dom_classes": [],
            "_model_module": "@jupyter-widgets/controls",
            "_model_module_version": "1.5.0",
            "_model_name": "ButtonModel",
            "_view_count": null,
            "_view_module": "@jupyter-widgets/controls",
            "_view_module_version": "1.5.0",
            "_view_name": "ButtonView",
            "button_style": "",
            "description": "0",
            "disabled": true,
            "icon": "",
            "layout": "IPY_MODEL_61efbf1dee3e4a029e54cd57d44e2bdc",
            "style": "IPY_MODEL_d9f3d9d88c234a759156e550820ddd40",
            "tooltip": ""
          }
        },
        "4e433e6ff3714ee5b0ca039db6f4d3ae": {
          "model_module": "@jupyter-widgets/controls",
          "model_name": "ButtonModel",
          "model_module_version": "1.5.0",
          "state": {
            "_dom_classes": [],
            "_model_module": "@jupyter-widgets/controls",
            "_model_module_version": "1.5.0",
            "_model_name": "ButtonModel",
            "_view_count": null,
            "_view_module": "@jupyter-widgets/controls",
            "_view_module_version": "1.5.0",
            "_view_name": "ButtonView",
            "button_style": "",
            "description": "1",
            "disabled": true,
            "icon": "",
            "layout": "IPY_MODEL_9072ff42e8684f3087c30b2029ae1bd0",
            "style": "IPY_MODEL_96d9435674c746ec8b1a5bb6ddd31633",
            "tooltip": ""
          }
        },
        "cd991cce856341e29f8b163bd364ac05": {
          "model_module": "@jupyter-widgets/base",
          "model_name": "LayoutModel",
          "model_module_version": "1.2.0",
          "state": {
            "_model_module": "@jupyter-widgets/base",
            "_model_module_version": "1.2.0",
            "_model_name": "LayoutModel",
            "_view_count": null,
            "_view_module": "@jupyter-widgets/base",
            "_view_module_version": "1.2.0",
            "_view_name": "LayoutView",
            "align_content": null,
            "align_items": null,
            "align_self": null,
            "border": null,
            "bottom": null,
            "display": null,
            "flex": null,
            "flex_flow": null,
            "grid_area": null,
            "grid_auto_columns": null,
            "grid_auto_flow": null,
            "grid_auto_rows": null,
            "grid_column": null,
            "grid_gap": null,
            "grid_row": null,
            "grid_template_areas": null,
            "grid_template_columns": null,
            "grid_template_rows": null,
            "height": null,
            "justify_content": null,
            "justify_items": null,
            "left": null,
            "margin": null,
            "max_height": null,
            "max_width": null,
            "min_height": null,
            "min_width": null,
            "object_fit": null,
            "object_position": null,
            "order": null,
            "overflow": null,
            "overflow_x": null,
            "overflow_y": null,
            "padding": null,
            "right": null,
            "top": null,
            "visibility": null,
            "width": null
          }
        },
        "61efbf1dee3e4a029e54cd57d44e2bdc": {
          "model_module": "@jupyter-widgets/base",
          "model_name": "LayoutModel",
          "model_module_version": "1.2.0",
          "state": {
            "_model_module": "@jupyter-widgets/base",
            "_model_module_version": "1.2.0",
            "_model_name": "LayoutModel",
            "_view_count": null,
            "_view_module": "@jupyter-widgets/base",
            "_view_module_version": "1.2.0",
            "_view_name": "LayoutView",
            "align_content": null,
            "align_items": null,
            "align_self": null,
            "border": null,
            "bottom": null,
            "display": null,
            "flex": null,
            "flex_flow": null,
            "grid_area": null,
            "grid_auto_columns": null,
            "grid_auto_flow": null,
            "grid_auto_rows": null,
            "grid_column": null,
            "grid_gap": null,
            "grid_row": null,
            "grid_template_areas": null,
            "grid_template_columns": null,
            "grid_template_rows": null,
            "height": null,
            "justify_content": null,
            "justify_items": null,
            "left": null,
            "margin": null,
            "max_height": null,
            "max_width": null,
            "min_height": null,
            "min_width": null,
            "object_fit": null,
            "object_position": null,
            "order": null,
            "overflow": null,
            "overflow_x": null,
            "overflow_y": null,
            "padding": null,
            "right": null,
            "top": null,
            "visibility": null,
            "width": null
          }
        },
        "d9f3d9d88c234a759156e550820ddd40": {
          "model_module": "@jupyter-widgets/controls",
          "model_name": "ButtonStyleModel",
          "model_module_version": "1.5.0",
          "state": {
            "_model_module": "@jupyter-widgets/controls",
            "_model_module_version": "1.5.0",
            "_model_name": "ButtonStyleModel",
            "_view_count": null,
            "_view_module": "@jupyter-widgets/base",
            "_view_module_version": "1.2.0",
            "_view_name": "StyleView",
            "button_color": null,
            "font_weight": ""
          }
        },
        "9072ff42e8684f3087c30b2029ae1bd0": {
          "model_module": "@jupyter-widgets/base",
          "model_name": "LayoutModel",
          "model_module_version": "1.2.0",
          "state": {
            "_model_module": "@jupyter-widgets/base",
            "_model_module_version": "1.2.0",
            "_model_name": "LayoutModel",
            "_view_count": null,
            "_view_module": "@jupyter-widgets/base",
            "_view_module_version": "1.2.0",
            "_view_name": "LayoutView",
            "align_content": null,
            "align_items": null,
            "align_self": null,
            "border": null,
            "bottom": null,
            "display": null,
            "flex": null,
            "flex_flow": null,
            "grid_area": null,
            "grid_auto_columns": null,
            "grid_auto_flow": null,
            "grid_auto_rows": null,
            "grid_column": null,
            "grid_gap": null,
            "grid_row": null,
            "grid_template_areas": null,
            "grid_template_columns": null,
            "grid_template_rows": null,
            "height": null,
            "justify_content": null,
            "justify_items": null,
            "left": null,
            "margin": null,
            "max_height": null,
            "max_width": null,
            "min_height": null,
            "min_width": null,
            "object_fit": null,
            "object_position": null,
            "order": null,
            "overflow": null,
            "overflow_x": null,
            "overflow_y": null,
            "padding": null,
            "right": null,
            "top": null,
            "visibility": null,
            "width": null
          }
        },
        "96d9435674c746ec8b1a5bb6ddd31633": {
          "model_module": "@jupyter-widgets/controls",
          "model_name": "ButtonStyleModel",
          "model_module_version": "1.5.0",
          "state": {
            "_model_module": "@jupyter-widgets/controls",
            "_model_module_version": "1.5.0",
            "_model_name": "ButtonStyleModel",
            "_view_count": null,
            "_view_module": "@jupyter-widgets/base",
            "_view_module_version": "1.2.0",
            "_view_name": "StyleView",
            "button_color": null,
            "font_weight": ""
          }
        },
        "de45a4eaaa4c48a79923ca8ed82966f2": {
          "model_module": "@jupyter-widgets/controls",
          "model_name": "VBoxModel",
          "model_module_version": "1.5.0",
          "state": {
            "_dom_classes": [],
            "_model_module": "@jupyter-widgets/controls",
            "_model_module_version": "1.5.0",
            "_model_name": "VBoxModel",
            "_view_count": null,
            "_view_module": "@jupyter-widgets/controls",
            "_view_module_version": "1.5.0",
            "_view_name": "VBoxView",
            "box_style": "",
            "children": [
              "IPY_MODEL_ea44dfe127c541b6bcdca2680c61bc8d",
              "IPY_MODEL_4921147f2372413da5de173a786b5550"
            ],
            "layout": "IPY_MODEL_a8abbebb1f554d3cb942adb5fca8d563"
          }
        },
        "ea44dfe127c541b6bcdca2680c61bc8d": {
          "model_module": "@jupyter-widgets/controls",
          "model_name": "IntProgressModel",
          "model_module_version": "1.5.0",
          "state": {
            "_dom_classes": [],
            "_model_module": "@jupyter-widgets/controls",
            "_model_module_version": "1.5.0",
            "_model_name": "IntProgressModel",
            "_view_count": null,
            "_view_module": "@jupyter-widgets/controls",
            "_view_module_version": "1.5.0",
            "_view_name": "ProgressView",
            "bar_style": "success",
            "description": "You",
            "description_tooltip": null,
            "layout": "IPY_MODEL_e306f5711eb748fa8cdfcb75c93d4c34",
            "max": 30,
            "min": 0,
            "orientation": "horizontal",
            "style": "IPY_MODEL_dac0a190a12d4ee9acd491b6549be3c8",
            "value": 30
          }
        },
        "4921147f2372413da5de173a786b5550": {
          "model_module": "@jupyter-widgets/controls",
          "model_name": "IntProgressModel",
          "model_module_version": "1.5.0",
          "state": {
            "_dom_classes": [],
            "_model_module": "@jupyter-widgets/controls",
            "_model_module_version": "1.5.0",
            "_model_name": "IntProgressModel",
            "_view_count": null,
            "_view_module": "@jupyter-widgets/controls",
            "_view_module_version": "1.5.0",
            "_view_name": "ProgressView",
            "bar_style": "danger",
            "description": "Bot",
            "description_tooltip": null,
            "layout": "IPY_MODEL_f776352edf454b30bf3e70b45c4cc829",
            "max": 30,
            "min": 0,
            "orientation": "horizontal",
            "style": "IPY_MODEL_6697947cfe094b53b04e4f2a03be614a",
            "value": 22
          }
        },
        "a8abbebb1f554d3cb942adb5fca8d563": {
          "model_module": "@jupyter-widgets/base",
          "model_name": "LayoutModel",
          "model_module_version": "1.2.0",
          "state": {
            "_model_module": "@jupyter-widgets/base",
            "_model_module_version": "1.2.0",
            "_model_name": "LayoutModel",
            "_view_count": null,
            "_view_module": "@jupyter-widgets/base",
            "_view_module_version": "1.2.0",
            "_view_name": "LayoutView",
            "align_content": null,
            "align_items": null,
            "align_self": null,
            "border": null,
            "bottom": null,
            "display": null,
            "flex": null,
            "flex_flow": null,
            "grid_area": null,
            "grid_auto_columns": null,
            "grid_auto_flow": null,
            "grid_auto_rows": null,
            "grid_column": null,
            "grid_gap": null,
            "grid_row": null,
            "grid_template_areas": null,
            "grid_template_columns": null,
            "grid_template_rows": null,
            "height": null,
            "justify_content": null,
            "justify_items": null,
            "left": null,
            "margin": null,
            "max_height": null,
            "max_width": null,
            "min_height": null,
            "min_width": null,
            "object_fit": null,
            "object_position": null,
            "order": null,
            "overflow": null,
            "overflow_x": null,
            "overflow_y": null,
            "padding": null,
            "right": null,
            "top": null,
            "visibility": null,
            "width": null
          }
        },
        "e306f5711eb748fa8cdfcb75c93d4c34": {
          "model_module": "@jupyter-widgets/base",
          "model_name": "LayoutModel",
          "model_module_version": "1.2.0",
          "state": {
            "_model_module": "@jupyter-widgets/base",
            "_model_module_version": "1.2.0",
            "_model_name": "LayoutModel",
            "_view_count": null,
            "_view_module": "@jupyter-widgets/base",
            "_view_module_version": "1.2.0",
            "_view_name": "LayoutView",
            "align_content": null,
            "align_items": null,
            "align_self": null,
            "border": null,
            "bottom": null,
            "display": null,
            "flex": null,
            "flex_flow": null,
            "grid_area": null,
            "grid_auto_columns": null,
            "grid_auto_flow": null,
            "grid_auto_rows": null,
            "grid_column": null,
            "grid_gap": null,
            "grid_row": null,
            "grid_template_areas": null,
            "grid_template_columns": null,
            "grid_template_rows": null,
            "height": null,
            "justify_content": null,
            "justify_items": null,
            "left": null,
            "margin": null,
            "max_height": null,
            "max_width": null,
            "min_height": null,
            "min_width": null,
            "object_fit": null,
            "object_position": null,
            "order": null,
            "overflow": null,
            "overflow_x": null,
            "overflow_y": null,
            "padding": null,
            "right": null,
            "top": null,
            "visibility": null,
            "width": null
          }
        },
        "dac0a190a12d4ee9acd491b6549be3c8": {
          "model_module": "@jupyter-widgets/controls",
          "model_name": "ProgressStyleModel",
          "model_module_version": "1.5.0",
          "state": {
            "_model_module": "@jupyter-widgets/controls",
            "_model_module_version": "1.5.0",
            "_model_name": "ProgressStyleModel",
            "_view_count": null,
            "_view_module": "@jupyter-widgets/base",
            "_view_module_version": "1.2.0",
            "_view_name": "StyleView",
            "bar_color": null,
            "description_width": ""
          }
        },
        "f776352edf454b30bf3e70b45c4cc829": {
          "model_module": "@jupyter-widgets/base",
          "model_name": "LayoutModel",
          "model_module_version": "1.2.0",
          "state": {
            "_model_module": "@jupyter-widgets/base",
            "_model_module_version": "1.2.0",
            "_model_name": "LayoutModel",
            "_view_count": null,
            "_view_module": "@jupyter-widgets/base",
            "_view_module_version": "1.2.0",
            "_view_name": "LayoutView",
            "align_content": null,
            "align_items": null,
            "align_self": null,
            "border": null,
            "bottom": null,
            "display": null,
            "flex": null,
            "flex_flow": null,
            "grid_area": null,
            "grid_auto_columns": null,
            "grid_auto_flow": null,
            "grid_auto_rows": null,
            "grid_column": null,
            "grid_gap": null,
            "grid_row": null,
            "grid_template_areas": null,
            "grid_template_columns": null,
            "grid_template_rows": null,
            "height": null,
            "justify_content": null,
            "justify_items": null,
            "left": null,
            "margin": null,
            "max_height": null,
            "max_width": null,
            "min_height": null,
            "min_width": null,
            "object_fit": null,
            "object_position": null,
            "order": null,
            "overflow": null,
            "overflow_x": null,
            "overflow_y": null,
            "padding": null,
            "right": null,
            "top": null,
            "visibility": null,
            "width": null
          }
        },
        "6697947cfe094b53b04e4f2a03be614a": {
          "model_module": "@jupyter-widgets/controls",
          "model_name": "ProgressStyleModel",
          "model_module_version": "1.5.0",
          "state": {
            "_model_module": "@jupyter-widgets/controls",
            "_model_module_version": "1.5.0",
            "_model_name": "ProgressStyleModel",
            "_view_count": null,
            "_view_module": "@jupyter-widgets/base",
            "_view_module_version": "1.2.0",
            "_view_name": "StyleView",
            "bar_color": null,
            "description_width": ""
          }
        },
        "4a397aae49474be2bc9efdef1733a790": {
          "model_module": "@jupyter-widgets/controls",
          "model_name": "HTMLModel",
          "model_module_version": "1.5.0",
          "state": {
            "_dom_classes": [],
            "_model_module": "@jupyter-widgets/controls",
            "_model_module_version": "1.5.0",
            "_model_name": "HTMLModel",
            "_view_count": null,
            "_view_module": "@jupyter-widgets/controls",
            "_view_module_version": "1.5.0",
            "_view_name": "HTMLView",
            "description": "",
            "description_tooltip": null,
            "layout": "IPY_MODEL_433efcbd4756432fb9873a6a6f94b065",
            "placeholder": "​",
            "style": "IPY_MODEL_bbdf8284f9234216aed90f5f21e3c2a2",
            "value": "<h1 style='color:green'>You Win!</h1>"
          }
        },
        "433efcbd4756432fb9873a6a6f94b065": {
          "model_module": "@jupyter-widgets/base",
          "model_name": "LayoutModel",
          "model_module_version": "1.2.0",
          "state": {
            "_model_module": "@jupyter-widgets/base",
            "_model_module_version": "1.2.0",
            "_model_name": "LayoutModel",
            "_view_count": null,
            "_view_module": "@jupyter-widgets/base",
            "_view_module_version": "1.2.0",
            "_view_name": "LayoutView",
            "align_content": null,
            "align_items": null,
            "align_self": null,
            "border": null,
            "bottom": null,
            "display": null,
            "flex": null,
            "flex_flow": null,
            "grid_area": null,
            "grid_auto_columns": null,
            "grid_auto_flow": null,
            "grid_auto_rows": null,
            "grid_column": null,
            "grid_gap": null,
            "grid_row": null,
            "grid_template_areas": null,
            "grid_template_columns": null,
            "grid_template_rows": null,
            "height": null,
            "justify_content": null,
            "justify_items": null,
            "left": null,
            "margin": null,
            "max_height": null,
            "max_width": null,
            "min_height": null,
            "min_width": null,
            "object_fit": null,
            "object_position": null,
            "order": null,
            "overflow": null,
            "overflow_x": null,
            "overflow_y": null,
            "padding": null,
            "right": null,
            "top": null,
            "visibility": "visible",
            "width": null
          }
        },
        "bbdf8284f9234216aed90f5f21e3c2a2": {
          "model_module": "@jupyter-widgets/controls",
          "model_name": "DescriptionStyleModel",
          "model_module_version": "1.5.0",
          "state": {
            "_model_module": "@jupyter-widgets/controls",
            "_model_module_version": "1.5.0",
            "_model_name": "DescriptionStyleModel",
            "_view_count": null,
            "_view_module": "@jupyter-widgets/base",
            "_view_module_version": "1.2.0",
            "_view_name": "StyleView",
            "description_width": ""
          }
        },
        "c4389d151df043efaa3a2f56308b000b": {
          "model_module": "@jupyter-widgets/controls",
          "model_name": "VBoxModel",
          "model_module_version": "1.5.0",
          "state": {
            "_dom_classes": [],
            "_model_module": "@jupyter-widgets/controls",
            "_model_module_version": "1.5.0",
            "_model_name": "VBoxModel",
            "_view_count": null,
            "_view_module": "@jupyter-widgets/controls",
            "_view_module_version": "1.5.0",
            "_view_name": "VBoxView",
            "box_style": "",
            "children": [
              "IPY_MODEL_a0f491f2b26d4dc1a2c678b1e31b385c",
              "IPY_MODEL_756e73ef9fa844e0a85494c57fc9d3cb"
            ],
            "layout": "IPY_MODEL_b136676dd3e84aa99b13a693f375abbf"
          }
        },
        "a0f491f2b26d4dc1a2c678b1e31b385c": {
          "model_module": "@jupyter-widgets/controls",
          "model_name": "HBoxModel",
          "model_module_version": "1.5.0",
          "state": {
            "_dom_classes": [],
            "_model_module": "@jupyter-widgets/controls",
            "_model_module_version": "1.5.0",
            "_model_name": "HBoxModel",
            "_view_count": null,
            "_view_module": "@jupyter-widgets/controls",
            "_view_module_version": "1.5.0",
            "_view_name": "HBoxView",
            "box_style": "",
            "children": [
              "IPY_MODEL_de45a4eaaa4c48a79923ca8ed82966f2",
              "IPY_MODEL_4a397aae49474be2bc9efdef1733a790"
            ],
            "layout": "IPY_MODEL_0ab8fb510f2448c2bb2d816c620b26d7"
          }
        },
        "b136676dd3e84aa99b13a693f375abbf": {
          "model_module": "@jupyter-widgets/base",
          "model_name": "LayoutModel",
          "model_module_version": "1.2.0",
          "state": {
            "_model_module": "@jupyter-widgets/base",
            "_model_module_version": "1.2.0",
            "_model_name": "LayoutModel",
            "_view_count": null,
            "_view_module": "@jupyter-widgets/base",
            "_view_module_version": "1.2.0",
            "_view_name": "LayoutView",
            "align_content": null,
            "align_items": null,
            "align_self": null,
            "border": null,
            "bottom": null,
            "display": null,
            "flex": null,
            "flex_flow": null,
            "grid_area": null,
            "grid_auto_columns": null,
            "grid_auto_flow": null,
            "grid_auto_rows": null,
            "grid_column": null,
            "grid_gap": null,
            "grid_row": null,
            "grid_template_areas": null,
            "grid_template_columns": null,
            "grid_template_rows": null,
            "height": null,
            "justify_content": null,
            "justify_items": null,
            "left": null,
            "margin": null,
            "max_height": null,
            "max_width": null,
            "min_height": null,
            "min_width": null,
            "object_fit": null,
            "object_position": null,
            "order": null,
            "overflow": null,
            "overflow_x": null,
            "overflow_y": null,
            "padding": null,
            "right": null,
            "top": null,
            "visibility": null,
            "width": null
          }
        },
        "0ab8fb510f2448c2bb2d816c620b26d7": {
          "model_module": "@jupyter-widgets/base",
          "model_name": "LayoutModel",
          "model_module_version": "1.2.0",
          "state": {
            "_model_module": "@jupyter-widgets/base",
            "_model_module_version": "1.2.0",
            "_model_name": "LayoutModel",
            "_view_count": null,
            "_view_module": "@jupyter-widgets/base",
            "_view_module_version": "1.2.0",
            "_view_name": "LayoutView",
            "align_content": null,
            "align_items": null,
            "align_self": null,
            "border": null,
            "bottom": null,
            "display": null,
            "flex": null,
            "flex_flow": null,
            "grid_area": null,
            "grid_auto_columns": null,
            "grid_auto_flow": null,
            "grid_auto_rows": null,
            "grid_column": null,
            "grid_gap": null,
            "grid_row": null,
            "grid_template_areas": null,
            "grid_template_columns": null,
            "grid_template_rows": null,
            "height": null,
            "justify_content": null,
            "justify_items": null,
            "left": null,
            "margin": null,
            "max_height": null,
            "max_width": null,
            "min_height": null,
            "min_width": null,
            "object_fit": null,
            "object_position": null,
            "order": null,
            "overflow": null,
            "overflow_x": null,
            "overflow_y": null,
            "padding": null,
            "right": null,
            "top": null,
            "visibility": null,
            "width": null
          }
        }
      }
    }
  },
  "cells": [
    {
      "cell_type": "markdown",
      "source": [
        "# **Zackster - Game Mind Reader**"
      ],
      "metadata": {
        "id": "SISYyrlnz_pU"
      }
    },
    {
      "cell_type": "code",
      "execution_count": null,
      "metadata": {
        "id": "bXCil36hzq_x"
      },
      "outputs": [],
      "source": [
        "from ipywidgets import *\n",
        "import numpy as np"
      ]
    },
    {
      "cell_type": "code",
      "source": [
        "btn_zero = Button( description='0' )\n",
        "btn_one = Button( description='1' )\n",
        "btns = HBox( [btn_zero, btn_one] )\n",
        "btns"
      ],
      "metadata": {
        "colab": {
          "base_uri": "https://localhost:8080/",
          "height": 49,
          "referenced_widgets": [
            "756e73ef9fa844e0a85494c57fc9d3cb",
            "d4fe2998c6db4a50a107707f13bdc283",
            "4e433e6ff3714ee5b0ca039db6f4d3ae",
            "cd991cce856341e29f8b163bd364ac05",
            "61efbf1dee3e4a029e54cd57d44e2bdc",
            "d9f3d9d88c234a759156e550820ddd40",
            "9072ff42e8684f3087c30b2029ae1bd0",
            "96d9435674c746ec8b1a5bb6ddd31633"
          ]
        },
        "id": "RBjT7TTM1PFR",
        "outputId": "6072f816-551f-4bcd-b177-e88712d6e3dd"
      },
      "execution_count": null,
      "outputs": [
        {
          "output_type": "display_data",
          "data": {
            "text/plain": [
              "HBox(children=(Button(description='0', style=ButtonStyle()), Button(description='1', style=ButtonStyle())))"
            ],
            "application/vnd.jupyter.widget-view+json": {
              "version_major": 2,
              "version_minor": 0,
              "model_id": "756e73ef9fa844e0a85494c57fc9d3cb"
            }
          },
          "metadata": {}
        }
      ]
    },
    {
      "cell_type": "code",
      "source": [
        "usr_score = IntProgress( value=0, min=0, max=30, description='You', bar_style='success' )\n",
        "bot_score = IntProgress( value=0, min=0, max=30, description='Bot', bar_style='danger' )\n",
        "scoreboard = VBox( [ usr_score, bot_score ] )\n",
        "scoreboard"
      ],
      "metadata": {
        "id": "m0fgj8j7_itW",
        "colab": {
          "base_uri": "https://localhost:8080/",
          "height": 81,
          "referenced_widgets": [
            "de45a4eaaa4c48a79923ca8ed82966f2",
            "ea44dfe127c541b6bcdca2680c61bc8d",
            "4921147f2372413da5de173a786b5550",
            "a8abbebb1f554d3cb942adb5fca8d563",
            "e306f5711eb748fa8cdfcb75c93d4c34",
            "dac0a190a12d4ee9acd491b6549be3c8",
            "f776352edf454b30bf3e70b45c4cc829",
            "6697947cfe094b53b04e4f2a03be614a"
          ]
        },
        "outputId": "545fe90a-60b3-482e-af18-d7be9f03cd59"
      },
      "execution_count": null,
      "outputs": [
        {
          "output_type": "display_data",
          "data": {
            "text/plain": [
              "VBox(children=(IntProgress(value=0, bar_style='success', description='You', max=30), IntProgress(value=0, bar_…"
            ],
            "application/vnd.jupyter.widget-view+json": {
              "version_major": 2,
              "version_minor": 0,
              "model_id": "de45a4eaaa4c48a79923ca8ed82966f2"
            }
          },
          "metadata": {}
        }
      ]
    },
    {
      "cell_type": "code",
      "source": [
        "final_msg = HTML(\"<h1 style='color:green'>You Win!</h1>\")\n",
        "final_msg"
      ],
      "metadata": {
        "colab": {
          "base_uri": "https://localhost:8080/",
          "height": 70,
          "referenced_widgets": [
            "4a397aae49474be2bc9efdef1733a790",
            "433efcbd4756432fb9873a6a6f94b065",
            "bbdf8284f9234216aed90f5f21e3c2a2"
          ]
        },
        "id": "IwmAKvn_crfi",
        "outputId": "863cf08a-d3a6-4e9d-edc6-cfff551ca64e"
      },
      "execution_count": null,
      "outputs": [
        {
          "output_type": "display_data",
          "data": {
            "text/plain": [
              "HTML(value=\"<h1 style='color:green'>You Win!</h1>\")"
            ],
            "application/vnd.jupyter.widget-view+json": {
              "version_major": 2,
              "version_minor": 0,
              "model_id": "4a397aae49474be2bc9efdef1733a790"
            }
          },
          "metadata": {}
        }
      ]
    },
    {
      "cell_type": "code",
      "source": [
        "game_box = VBox([ HBox( [ scoreboard, final_msg ] ),\n",
        "                 btns ])\n",
        "game_box"
      ],
      "metadata": {
        "colab": {
          "base_uri": "https://localhost:8080/",
          "height": 113,
          "referenced_widgets": [
            "c4389d151df043efaa3a2f56308b000b",
            "a0f491f2b26d4dc1a2c678b1e31b385c",
            "756e73ef9fa844e0a85494c57fc9d3cb",
            "b136676dd3e84aa99b13a693f375abbf",
            "de45a4eaaa4c48a79923ca8ed82966f2",
            "4a397aae49474be2bc9efdef1733a790",
            "0ab8fb510f2448c2bb2d816c620b26d7",
            "d4fe2998c6db4a50a107707f13bdc283",
            "4e433e6ff3714ee5b0ca039db6f4d3ae",
            "cd991cce856341e29f8b163bd364ac05",
            "ea44dfe127c541b6bcdca2680c61bc8d",
            "4921147f2372413da5de173a786b5550",
            "a8abbebb1f554d3cb942adb5fca8d563",
            "433efcbd4756432fb9873a6a6f94b065",
            "bbdf8284f9234216aed90f5f21e3c2a2",
            "61efbf1dee3e4a029e54cd57d44e2bdc",
            "d9f3d9d88c234a759156e550820ddd40",
            "9072ff42e8684f3087c30b2029ae1bd0",
            "96d9435674c746ec8b1a5bb6ddd31633",
            "e306f5711eb748fa8cdfcb75c93d4c34",
            "dac0a190a12d4ee9acd491b6549be3c8",
            "f776352edf454b30bf3e70b45c4cc829",
            "6697947cfe094b53b04e4f2a03be614a"
          ]
        },
        "id": "NtAagNYGdJPB",
        "outputId": "33da23ac-3428-4da4-86d3-03036f5476e0"
      },
      "execution_count": null,
      "outputs": [
        {
          "output_type": "display_data",
          "data": {
            "text/plain": [
              "VBox(children=(HBox(children=(VBox(children=(IntProgress(value=0, bar_style='success', description='You', max=…"
            ],
            "application/vnd.jupyter.widget-view+json": {
              "version_major": 2,
              "version_minor": 0,
              "model_id": "c4389d151df043efaa3a2f56308b000b"
            }
          },
          "metadata": {}
        }
      ]
    },
    {
      "cell_type": "code",
      "source": [
        "def click_zero(b):\n",
        "    update_game(0)\n",
        "btn_zero.on_click( click_zero )\n"
      ],
      "metadata": {
        "id": "5MteQT9O1lSH"
      },
      "execution_count": null,
      "outputs": []
    },
    {
      "cell_type": "code",
      "source": [
        "def click_one(b):\n",
        "    update_game(1)\n",
        "btn_one.on_click( click_one )"
      ],
      "metadata": {
        "id": "YVqIC9Ep1wEs"
      },
      "execution_count": null,
      "outputs": []
    },
    {
      "cell_type": "code",
      "source": [
        "def update_game( usr_choice ):\n",
        "  try:\n",
        "    prob = sum(usr_history) / len (usr_history)\n",
        "  except ZeroDivisionError:\n",
        "    prob = 0\n",
        "  comp_choice = np.random.binomial(1, prob, 1)[0]\n",
        "  usr_history.append(usr_choice)\n",
        "\n",
        "  if comp_choice == usr_choice:\n",
        "    bot_score.value += 1\n",
        "  else:\n",
        "    usr_score.value += 1\n",
        "\n",
        "  if usr_score.value == 30 or bot_score.value == 30:\n",
        "      if bot_score.value == 30:\n",
        "        final_msg.value = \"<h1 style='color:red'>You Lose!</h1>\"\n",
        "      final_msg.layout.visibility = \"visible\"\n",
        "      btn_zero.disabled = True\n",
        "      btn_one.disabled = True\n",
        "\n",
        "  return"
      ],
      "metadata": {
        "id": "6gJSffJX181A"
      },
      "execution_count": null,
      "outputs": []
    },
    {
      "cell_type": "code",
      "source": [
        "usr_history = []"
      ],
      "metadata": {
        "id": "0s34SdLni1oJ"
      },
      "execution_count": null,
      "outputs": []
    },
    {
      "cell_type": "code",
      "source": [
        "usr_history.append(0)"
      ],
      "metadata": {
        "id": "E8o6Hah9BYYY"
      },
      "execution_count": null,
      "outputs": []
    },
    {
      "cell_type": "code",
      "source": [
        "usr_history.append(1)"
      ],
      "metadata": {
        "id": "_qW6X0pMBbNC"
      },
      "execution_count": null,
      "outputs": []
    },
    {
      "cell_type": "code",
      "source": [
        "sum(usr_history)"
      ],
      "metadata": {
        "colab": {
          "base_uri": "https://localhost:8080/"
        },
        "id": "Pf-YnRbmBRWq",
        "outputId": "75a59b4c-a6f1-4658-d0ba-0ef75c462c9d"
      },
      "execution_count": null,
      "outputs": [
        {
          "output_type": "execute_result",
          "data": {
            "text/plain": [
              "1"
            ]
          },
          "metadata": {},
          "execution_count": 12
        }
      ]
    },
    {
      "cell_type": "code",
      "source": [
        "len(usr_history)"
      ],
      "metadata": {
        "colab": {
          "base_uri": "https://localhost:8080/"
        },
        "id": "W77zMDhzBnJe",
        "outputId": "ec3a6c5f-475f-450a-dc5e-d446eb058230"
      },
      "execution_count": null,
      "outputs": [
        {
          "output_type": "execute_result",
          "data": {
            "text/plain": [
              "2"
            ]
          },
          "metadata": {},
          "execution_count": 13
        }
      ]
    },
    {
      "cell_type": "code",
      "source": [
        "display (game_box)"
      ],
      "metadata": {
        "colab": {
          "base_uri": "https://localhost:8080/",
          "height": 113,
          "referenced_widgets": [
            "c4389d151df043efaa3a2f56308b000b",
            "a0f491f2b26d4dc1a2c678b1e31b385c",
            "756e73ef9fa844e0a85494c57fc9d3cb",
            "b136676dd3e84aa99b13a693f375abbf",
            "de45a4eaaa4c48a79923ca8ed82966f2",
            "4a397aae49474be2bc9efdef1733a790",
            "0ab8fb510f2448c2bb2d816c620b26d7",
            "d4fe2998c6db4a50a107707f13bdc283",
            "4e433e6ff3714ee5b0ca039db6f4d3ae",
            "cd991cce856341e29f8b163bd364ac05",
            "ea44dfe127c541b6bcdca2680c61bc8d",
            "4921147f2372413da5de173a786b5550",
            "a8abbebb1f554d3cb942adb5fca8d563",
            "433efcbd4756432fb9873a6a6f94b065",
            "bbdf8284f9234216aed90f5f21e3c2a2",
            "61efbf1dee3e4a029e54cd57d44e2bdc",
            "d9f3d9d88c234a759156e550820ddd40",
            "9072ff42e8684f3087c30b2029ae1bd0",
            "96d9435674c746ec8b1a5bb6ddd31633",
            "e306f5711eb748fa8cdfcb75c93d4c34",
            "dac0a190a12d4ee9acd491b6549be3c8",
            "f776352edf454b30bf3e70b45c4cc829",
            "6697947cfe094b53b04e4f2a03be614a"
          ]
        },
        "id": "xoARcDUFfoHV",
        "outputId": "3f570a29-ee50-4a24-85b6-33e90d7d3bc4"
      },
      "execution_count": null,
      "outputs": [
        {
          "output_type": "display_data",
          "data": {
            "text/plain": [
              "VBox(children=(HBox(children=(VBox(children=(IntProgress(value=0, bar_style='success', description='You', max=…"
            ],
            "application/vnd.jupyter.widget-view+json": {
              "version_major": 2,
              "version_minor": 0,
              "model_id": "c4389d151df043efaa3a2f56308b000b"
            }
          },
          "metadata": {}
        }
      ]
    }
  ]
}